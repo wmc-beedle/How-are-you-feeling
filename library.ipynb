{
 "metadata": {
  "language_info": {
   "codemirror_mode": {
    "name": "ipython",
    "version": 3
   },
   "file_extension": ".py",
   "mimetype": "text/x-python",
   "name": "python",
   "nbconvert_exporter": "python",
   "pygments_lexer": "ipython3",
   "version": "3.8.5-final"
  },
  "orig_nbformat": 2,
  "kernelspec": {
   "name": "python3",
   "display_name": "Python 3",
   "language": "python"
  }
 },
 "nbformat": 4,
 "nbformat_minor": 2,
 "cells": [
  {
   "cell_type": "code",
   "execution_count": 1,
   "metadata": {},
   "outputs": [],
   "source": [
    "import pandas as pd \n",
    "import numpy as np\n",
    "import matplotlib.pyplot as plt\n",
    "%matplotlib inline\n",
    "import os \n",
    "import cv2\n",
    "import ast \n",
    "from tqdm import tqdm\n",
    "import tensorflow as tf\n",
    "from tensorflow import keras\n",
    "from tensorflow.keras.models import Sequential\n",
    "from tensorflow.keras.layers import Dense, Dropout, Activation, Flatten\n",
    "from tensorflow.keras.layers import Conv2D, MaxPooling2D\n",
    "from tensorflow.keras.utils import to_categorical\n",
    "from tensorflow.keras.preprocessing import image\n",
    "from sklearn.model_selection import train_test_split"
   ]
  },
  {
   "cell_type": "code",
   "execution_count": 2,
   "metadata": {},
   "outputs": [],
   "source": [
    "emotions = {'Peace':0, 'Affection':1, 'Esteem':2, 'Anticipation':3, 'Engagement':4,\n",
    "             'Confidence':5, 'Happiness':6, 'Pleasure':7, 'Excitement':8,'Surprise':9,\n",
    "             'Sympathy':10, 'Doubt/Confusion':11, 'Disconnection':12, 'Fatigue':13, 'Embarrassment':14,\n",
    "             'Yearning':15, 'Disapproval':16, 'Aversion':17, 'Annoyance':18, 'Anger':19, \n",
    "             'Sensitivity':20, 'Sadness':21, 'Disquietment':22, 'Fear':23, 'Pain':24, 'Suffering':25}\n",
    "genders = {'Female':0,'Male':1}\n",
    "ages = {'Adult':0, 'Teenager':1, 'Kid':2}"
   ]
  },
  {
   "cell_type": "code",
   "execution_count": 3,
   "metadata": {},
   "outputs": [],
   "source": [
    "def emotion2int(emotion):\n",
    "    lst = []\n",
    "    for emot in [emotion].strip('][').split(', '):\n",
    "                    emot = emotion.replace(\"'\",\"\")\n",
    "    val = emotions[emot]\n",
    "    return val"
   ]
  },
  {
   "cell_type": "code",
   "execution_count": 4,
   "metadata": {},
   "outputs": [],
   "source": [
    "def int2emotion(int):\n",
    "    for key, value in emotions.items():\n",
    "        if int == value:\n",
    "            return key"
   ]
  },
  {
   "cell_type": "code",
   "execution_count": 5,
   "metadata": {},
   "outputs": [],
   "source": [
    "def gender2int(gender):\n",
    "    val = genders[gender]\n",
    "    return val"
   ]
  },
  {
   "cell_type": "code",
   "execution_count": 6,
   "metadata": {},
   "outputs": [],
   "source": [
    "def int2gender(int):\n",
    "    for key, value in genders.items():\n",
    "        if int == value:\n",
    "            return key"
   ]
  },
  {
   "cell_type": "code",
   "execution_count": 7,
   "metadata": {},
   "outputs": [],
   "source": [
    "def age2int(age):\n",
    "    val = ages[age]\n",
    "    return val"
   ]
  },
  {
   "cell_type": "code",
   "execution_count": 8,
   "metadata": {},
   "outputs": [],
   "source": [
    "def int2age(int):\n",
    "    for key, value in ages.items():\n",
    "        if int == value:\n",
    "            return key"
   ]
  },
  {
   "cell_type": "code",
   "execution_count": 9,
   "metadata": {},
   "outputs": [],
   "source": [
    "def get_photo(file, idx):\n",
    "    folder = file.iloc[idx, 1]\n",
    "    filename = file.iloc[idx, 2]\n",
    "    cwd = os.getcwd() + '/Data'\n",
    "\n",
    "    img = image.load_img(f'{cwd}/emotic/{folder}/{filename}', target_size=(48,48,1), grayscale=True)\n",
    "    img = image.img_to_array(img)\n",
    "    img = img/255.0   \n",
    "    return img\n"
   ]
  },
  {
   "cell_type": "code",
   "execution_count": 10,
   "metadata": {},
   "outputs": [],
   "source": [
    "def make_numeric(file, idx):\n",
    "    BB = file.iloc[idx, 3]\n",
    "    Labels = emotion2int(file.iloc[idx, 5])\n",
    "    Gender = gender2int(file.iloc[idx, 7])\n",
    "    Age = age2int(file.iloc[idx, 8])\n",
    "    num_list = np.array([BB,Labels,Gender,Age])\n",
    "    return num_list"
   ]
  },
  {
   "cell_type": "code",
   "execution_count": 11,
   "metadata": {},
   "outputs": [],
   "source": [
    "def featurize(train_file, test_file):\n",
    "    train = pd.read_csv(train_file)\n",
    "    test = pd.read_csv(test_file)\n",
    "    \n",
    "    X = []\n",
    "    Y = []\n",
    "\n",
    "    # X_test = np.array([])\n",
    "    # Y_test = np.array([])\n",
    "\n",
    "    for idx in tqdm(range(len(train)), desc='Loading training data...'):\n",
    "        try:\n",
    "            img_train = get_photo(train,idx)\n",
    "            X.append(img_train)\n",
    "            Y.append(make_numeric(train,idx))\n",
    "        except:\n",
    "            pass\n",
    "    for idx in tqdm(range(len(test)), desc='Loading testing data...'):\n",
    "        try:\n",
    "            img_test = get_photo(test,idx)\n",
    "            # X_test.append(img_test)\n",
    "            # Y_test.append(make_numeric(test,idx))\n",
    "            X.append(img_test)\n",
    "            Y.append(make_numeric(test,idx))\n",
    "        except:\n",
    "            pass\n",
    "    print('Loading data done!')\n",
    "    X = np.array(X)\n",
    "    Y = np.array(Y)\n",
    "    return X, Y"
   ]
  },
  {
   "cell_type": "code",
   "execution_count": 12,
   "metadata": {},
   "outputs": [],
   "source": [
    "M = pd.read_csv('Data/emotic_pre/train.csv')"
   ]
  },
  {
   "cell_type": "code",
   "execution_count": 13,
   "metadata": {},
   "outputs": [
    {
     "output_type": "execute_result",
     "data": {
      "text/plain": [
       "array(['Adult', 'Teenager', 'Kid'], dtype=object)"
      ]
     },
     "metadata": {},
     "execution_count": 13
    }
   ],
   "source": [
    "M['Age'].unique()"
   ]
  },
  {
   "cell_type": "code",
   "execution_count": 14,
   "metadata": {},
   "outputs": [],
   "source": [
    "# train_file = 'Data/emotic_pre/train.csv'\n",
    "# test_file = 'Data/emotic_pre/test.csv'\n",
    "\n",
    "# X, Y = featurize(train_file,test_file)\n",
    "\n",
    "\n",
    "# X_train, X_test, Y_train, Y_test = train_test_split(X, Y, test_size=0.3)"
   ]
  },
  {
   "cell_type": "code",
   "execution_count": 15,
   "metadata": {},
   "outputs": [],
   "source": [
    "# from collections import Counter\n",
    "# freq = []\n",
    "# g = []\n",
    "# for emot in M['Categorical_Labels']:\n",
    "#     emotion = emot.replace(\"'\",\"\").strip('][').split(', ')\n",
    "#     for i in emotion:\n",
    "#         freq.append(i)\n"
   ]
  },
  {
   "cell_type": "code",
   "execution_count": 16,
   "metadata": {},
   "outputs": [],
   "source": [
    "# fig, axes = plt.subplots()\n",
    "# labels, values = zip(*Counter(freq).items())\n",
    "\n",
    "# indexes = np.arange(len(labels))\n",
    "\n",
    "# plt.bar(indexes, values, align='edge')\n",
    "# plt.xticks(indexes, labels, rotation='85')\n",
    "# plt.show()"
   ]
  },
  {
   "cell_type": "code",
   "execution_count": 17,
   "metadata": {},
   "outputs": [],
   "source": [
    "# import PIL\n",
    "# from wordcloud import WordCloud, ImageColorGenerator"
   ]
  },
  {
   "cell_type": "code",
   "execution_count": 18,
   "metadata": {},
   "outputs": [],
   "source": [
    "# # text = [x.replace(\"'\",\"\").strip('][').split(', ') for x in M['Categorical_Labels']]\n",
    "\n",
    "# gen = M['Gender']\n",
    "# labels, values = zip(*Counter(gen).items())\n",
    "# plt.bar(indexes, values)\n",
    "# plt.xticks(indexes, labels)\n",
    "# plt.show()"
   ]
  },
  {
   "cell_type": "code",
   "execution_count": null,
   "metadata": {},
   "outputs": [],
   "source": []
  }
 ]
}