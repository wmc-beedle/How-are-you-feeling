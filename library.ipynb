{
 "metadata": {
  "language_info": {
   "codemirror_mode": {
    "name": "ipython",
    "version": 3
   },
   "file_extension": ".py",
   "mimetype": "text/x-python",
   "name": "python",
   "nbconvert_exporter": "python",
   "pygments_lexer": "ipython3",
   "version": "3.8.5-final"
  },
  "orig_nbformat": 2,
  "kernelspec": {
   "name": "python3",
   "display_name": "Python 3",
   "language": "python"
  }
 },
 "nbformat": 4,
 "nbformat_minor": 2,
 "cells": [
  {
   "cell_type": "code",
   "execution_count": 1,
   "metadata": {},
   "outputs": [],
   "source": [
    "import pandas as pd \n",
    "import numpy as np\n",
    "import os \n",
    "import cv2\n",
    "import ast \n",
    "from tqdm import tqdm\n",
    "from tensorflow import keras\n",
    "from tensorflow.keras.models import Sequential\n",
    "from tensorflow.keras.layers import Dense, Dropout, Activation, Flatten\n",
    "from tensorflow.keras.layers import Conv2D, MaxPooling2D\n",
    "from tensorflow.keras.utils import to_categorical\n",
    "from tensorflow.keras.preprocessing import image\n"
   ]
  },
  {
   "cell_type": "code",
   "execution_count": 2,
   "metadata": {},
   "outputs": [],
   "source": [
    "emotions = {'Peace':0, 'Affection':1, 'Esteem':2, 'Anticipation':3, 'Engagement':4,\n",
    "             'Confidence':5, 'Happiness':6, 'Pleasure':7, 'Excitement':8,'Surprise':9,\n",
    "             'Sympathy':10, 'Doubt/Confusion':11, 'Disconnection':12, 'Fatigue':13, 'Embarrassment':14,\n",
    "             'Yearning':15, 'Disapproval':16, 'Aversion':17, 'Annoyance':18, 'Anger':19, \n",
    "             'Sensitivity':20, 'Sadness':21, 'Disquietment':22, 'Fear':23, 'Pain':24, 'Suffering':25}\n",
    "genders = {'Female':0,'Male':1}"
   ]
  },
  {
   "cell_type": "code",
   "execution_count": 3,
   "metadata": {},
   "outputs": [],
   "source": [
    "def emotion2int(emotion):\n",
    "    val = emotions[emotion]\n",
    "    return val"
   ]
  },
  {
   "cell_type": "code",
   "execution_count": 4,
   "metadata": {},
   "outputs": [],
   "source": [
    "def gender2int(gender):\n",
    "    val = genders[gender]\n",
    "    return val"
   ]
  },
  {
   "cell_type": "code",
   "execution_count": 5,
   "metadata": {},
   "outputs": [],
   "source": [
    "def int2emotion(int):\n",
    "    for key, value in emotions.items():\n",
    "        if int == value:\n",
    "            return key"
   ]
  },
  {
   "cell_type": "code",
   "execution_count": 6,
   "metadata": {},
   "outputs": [],
   "source": [
    "def int2gender(int):\n",
    "    for key, value in genders.items():\n",
    "        if int == value:\n",
    "            return key"
   ]
  },
  {
   "cell_type": "code",
   "execution_count": 8,
   "metadata": {},
   "outputs": [],
   "source": [
    "def get_photo(file, idx):\n",
    "    folder = file.iloc[idx, 1]\n",
    "    filename = file.iloc[idx, 2]\n",
    "    cwd = os.getcwd() + '/Data'\n",
    "\n",
    "    img = image.load_img(f'{cwd}/emotic/{folder}/{filename}', target_size=(48,48,1), grayscale=True)\n",
    "    img = image.img_to_array(img)\n",
    "    img = img/255.0   \n",
    "    return img\n"
   ]
  },
  {
   "cell_type": "code",
   "execution_count": 9,
   "metadata": {},
   "outputs": [],
   "source": [
    "def make_numeric(file, idx):\n",
    "    BB = file.iloc[idx, 4]\n",
    "    Labels = file.iloc[idx, 5]\n",
    "    Gender = file.iloc[idx, 7]\n",
    "    Age = file.iloc[idx, 8]\n",
    "    num_list = np.array([BB,Labels,Gender,Age])\n",
    "    return num_list"
   ]
  },
  {
   "cell_type": "code",
   "execution_count": 10,
   "metadata": {},
   "outputs": [],
   "source": [
    "def featurize(train_file, test_file):\n",
    "    train = pd.read_csv(train_file, usecols=['Index', 'Folder', 'Filename', 'Image Size'] )\n",
    "    test = pd.read_csv(test_file, usecols=['Index', 'Folder', 'Filename', 'Image Size'])\n",
    "    \n",
    "    X_train = []\n",
    "    Y_train = []\n",
    "\n",
    "    X_test = []\n",
    "    Y_test = []\n",
    "\n",
    "    Y_train = to_categorical(Y_train['Categorical_Labels'])\n",
    "    Y_test = to_categorical(Y_test['Categorical_Labels'])\n",
    "\n",
    "    for idx in tqdm(range(len(train)), desc='Loading train data...'):\n",
    "        try:\n",
    "            x = get_photo(train,idx)\n",
    "            x.append(img)\n",
    "            y.append(make_numeric)\n",
    "        except:\n",
    "            pass\n",
    "    print('Train data done!')\n",
    "\n",
    "    for idx in tqdm(range(len(test)), desc='Loading test data...'):\n",
    "        try:\n",
    "            x = get_photo(test,idx)\n",
    "            x.append(img)\n",
    "            y.append(make_numeric)\n",
    "        except:\n",
    "            pass\n",
    "    print('Training data done!')\n",
    "    return X_train, Y_train, X_test Y_test\n",
    "\n"
   ]
  },
  {
   "cell_type": "code",
   "execution_count": 7,
   "metadata": {},
   "outputs": [],
   "source": []
  },
  {
   "cell_type": "code",
   "execution_count": null,
   "metadata": {},
   "outputs": [],
   "source": []
  }
 ]
}