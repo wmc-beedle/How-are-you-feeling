{
 "metadata": {
  "language_info": {
   "codemirror_mode": {
    "name": "ipython",
    "version": 3
   },
   "file_extension": ".py",
   "mimetype": "text/x-python",
   "name": "python",
   "nbconvert_exporter": "python",
   "pygments_lexer": "ipython3",
   "version": "3.8.5-final"
  },
  "orig_nbformat": 2,
  "kernelspec": {
   "name": "python3",
   "display_name": "Python 3",
   "language": "python"
  }
 },
 "nbformat": 4,
 "nbformat_minor": 2,
 "cells": [
  {
   "cell_type": "code",
   "execution_count": 1,
   "metadata": {},
   "outputs": [],
   "source": [
    "import pandas as pd\n",
    "import numpy as np\n",
    "import matplotlib.pyplot as plt\n",
    "import tensorflow as tf\n",
    "from tensorflow import keras\n",
    "import os\n",
    "import cv2"
   ]
  },
  {
   "cell_type": "code",
   "execution_count": 2,
   "metadata": {},
   "outputs": [],
   "source": [
    "emotions = ['Peace', 'Affection', 'Esteem', 'Anticipation', 'Engagement',\n",
    "             'Confidence', 'Happiness', 'Pleasure', 'Excitement','Surprise',\n",
    "             'Sympathy', 'Doubt/Confusion', 'Disconnection', 'Fatigue', 'Embarrassment',\n",
    "             'Yearning', 'Disapproval', 'Aversion', 'Annoyance', 'Anger', \n",
    "             'Sensitivity', 'Sadness', 'Disquietment', 'Fear', 'Pain', 'Suffering']\n",
    "\n",
    "face_det1 = cv2.CascadeClassifier('haarcascade_frontalface_default.xml')\n",
    "face_det2 = cv2.CascadeClassifier('haarcascade_frontalface_alt.xml')\n",
    "face_det3 = cv2.CascadeClassifier('haarcascade_frontalface_alt2.xml')\n",
    "face_det4 = cv2.CascadeClassifier('haarcascade_frontalface_alt_tree.xml')"
   ]
  },
  {
   "cell_type": "code",
   "execution_count": 3,
   "metadata": {},
   "outputs": [],
   "source": [
    "f = pd.read_csv('./emotic_pre/original_train.csv', usecols=['Index','Folder','Filename','Categorical_Labels'])\n",
    "images = len(f.index)\n",
    "index = 0\n",
    "# for image in range(images):\n",
    "#     frame = cv2.imread('./emotic/{}'.format(f.loc['Folder', image] + '/{}'.format(f['Filename', image])))\n"
   ]
  },
  {
   "cell_type": "code",
   "execution_count": null,
   "metadata": {},
   "outputs": [],
   "source": [
    "lol = []"
   ]
  },
  {
   "cell_type": "code",
   "execution_count": 4,
   "metadata": {
    "tags": []
   },
   "outputs": [
    {
     "output_type": "stream",
     "name": "stdout",
     "text": [
      "yes\nyes\n"
     ]
    }
   ],
   "source": [
    "for emotion in f['Categorical_Labels'][0].strip('][').split(', '):\n",
    "    emotion = emotion.replace(\"'\",\"\")\n",
    "    if emotion in emotions:\n",
    "        lol.append\n"
   ]
  },
  {
   "cell_type": "code",
   "execution_count": 5,
   "metadata": {},
   "outputs": [
    {
     "output_type": "execute_result",
     "data": {
      "text/plain": [
       "array([[[35, 32, 28],\n",
       "        [35, 32, 28],\n",
       "        [35, 32, 28],\n",
       "        ...,\n",
       "        [36, 35, 31],\n",
       "        [36, 35, 31],\n",
       "        [36, 35, 31]],\n",
       "\n",
       "       [[35, 32, 28],\n",
       "        [35, 32, 28],\n",
       "        [35, 32, 28],\n",
       "        ...,\n",
       "        [36, 35, 31],\n",
       "        [36, 35, 31],\n",
       "        [36, 35, 31]],\n",
       "\n",
       "       [[35, 32, 28],\n",
       "        [35, 32, 28],\n",
       "        [35, 32, 28],\n",
       "        ...,\n",
       "        [36, 35, 31],\n",
       "        [36, 35, 31],\n",
       "        [36, 35, 31]],\n",
       "\n",
       "       ...,\n",
       "\n",
       "       [[28, 27, 23],\n",
       "        [28, 27, 23],\n",
       "        [28, 27, 23],\n",
       "        ...,\n",
       "        [70, 66, 61],\n",
       "        [71, 67, 62],\n",
       "        [72, 68, 63]],\n",
       "\n",
       "       [[28, 27, 23],\n",
       "        [28, 27, 23],\n",
       "        [28, 27, 23],\n",
       "        ...,\n",
       "        [70, 66, 61],\n",
       "        [71, 67, 62],\n",
       "        [72, 68, 63]],\n",
       "\n",
       "       [[28, 27, 23],\n",
       "        [28, 27, 23],\n",
       "        [28, 27, 23],\n",
       "        ...,\n",
       "        [70, 66, 61],\n",
       "        [71, 67, 62],\n",
       "        [72, 68, 63]]], dtype=uint8)"
      ]
     },
     "metadata": {},
     "execution_count": 5
    }
   ],
   "source": [
    "frame = cv2.imread('./emotic/{}'.format(f['Folder'][0]) +'/{}'.format(f['Filename'][0]))\n",
    "frame"
   ]
  },
  {
   "cell_type": "code",
   "execution_count": 6,
   "metadata": {},
   "outputs": [
    {
     "output_type": "execute_result",
     "data": {
      "text/plain": [
       "array([[31, 31, 31, ..., 34, 34, 34],\n",
       "       [31, 31, 31, ..., 34, 34, 34],\n",
       "       [31, 31, 31, ..., 34, 34, 34],\n",
       "       ...,\n",
       "       [26, 26, 26, ..., 65, 66, 67],\n",
       "       [26, 26, 26, ..., 65, 66, 67],\n",
       "       [26, 26, 26, ..., 65, 66, 67]], dtype=uint8)"
      ]
     },
     "metadata": {},
     "execution_count": 6
    }
   ],
   "source": [
    "grayscale = cv2.cvtColor(frame, cv2.COLOR_BGR2GRAY)\n",
    "grayscale"
   ]
  },
  {
   "cell_type": "code",
   "execution_count": 14,
   "metadata": {},
   "outputs": [],
   "source": [
    "# cv2.imshow('image', gray)\n",
    "# cv2.waitKey(0)\n",
    "# cv2.destroyAllWindows()"
   ]
  },
  {
   "cell_type": "code",
   "execution_count": 7,
   "metadata": {},
   "outputs": [
    {
     "output_type": "execute_result",
     "data": {
      "text/plain": [
       "0"
      ]
     },
     "metadata": {},
     "execution_count": 7
    }
   ],
   "source": [
    "face1 = face_det1.detectMultiScale(grayscale, scaleFactor=1.1, minNeighbors=10)\n",
    "len(face1)"
   ]
  },
  {
   "cell_type": "code",
   "execution_count": 8,
   "metadata": {},
   "outputs": [
    {
     "output_type": "execute_result",
     "data": {
      "text/plain": [
       "1"
      ]
     },
     "metadata": {},
     "execution_count": 8
    }
   ],
   "source": [
    "face2 = face_det2.detectMultiScale(grayscale, scaleFactor=1.1, minNeighbors=3, minSize=(5, 5), flags=cv2.CASCADE_SCALE_IMAGE)\n",
    "len(face2)"
   ]
  },
  {
   "cell_type": "code",
   "execution_count": 9,
   "metadata": {},
   "outputs": [
    {
     "output_type": "execute_result",
     "data": {
      "text/plain": [
       "1"
      ]
     },
     "metadata": {},
     "execution_count": 9
    }
   ],
   "source": [
    "face3 = face_det3.detectMultiScale(grayscale, scaleFactor=1.1, minNeighbors=5)\n",
    "len(face3)"
   ]
  },
  {
   "cell_type": "code",
   "execution_count": 10,
   "metadata": {},
   "outputs": [
    {
     "output_type": "execute_result",
     "data": {
      "text/plain": [
       "0"
      ]
     },
     "metadata": {},
     "execution_count": 10
    }
   ],
   "source": [
    "face4 = face_det4.detectMultiScale(grayscale, scaleFactor=1.1, minNeighbors=10)\n",
    "len(face4)"
   ]
  },
  {
   "cell_type": "code",
   "execution_count": 11,
   "metadata": {},
   "outputs": [],
   "source": [
    "if len(face1) >= 1:\n",
    "    features = face1\n",
    "elif len(face2) >= 1:\n",
    "    features = face2\n",
    "elif len(face3) >= 1:\n",
    "    features = face3\n",
    "elif len(face4) >= 1:\n",
    "    features = face4\n",
    "else:\n",
    "    features = ''"
   ]
  },
  {
   "cell_type": "code",
   "execution_count": 12,
   "metadata": {},
   "outputs": [],
   "source": [
    "# if len(face1) >= 1:\n",
    "#      features = face1\n",
    "#      print('yes')\n",
    "\n",
    "# else:\n",
    "#      features = ''\n",
    "#      print('no')"
   ]
  },
  {
   "cell_type": "code",
   "execution_count": 13,
   "metadata": {},
   "outputs": [
    {
     "output_type": "execute_result",
     "data": {
      "text/plain": [
       "list"
      ]
     },
     "metadata": {},
     "execution_count": 13
    }
   ],
   "source": [
    "q = []\n",
    "type(q)"
   ]
  },
  {
   "cell_type": "code",
   "execution_count": 15,
   "metadata": {},
   "outputs": [
    {
     "output_type": "stream",
     "name": "stdout",
     "text": [
      "kinda\nmaybe\n<class 'numpy.ndarray'>\n"
     ]
    }
   ],
   "source": [
    "for (x, y, w, h) in features:\n",
    "    grayscale = grayscale[y:y+h, x:x+w]\n",
    "    try:\n",
    "        print('kinda')\n",
    "        resized_image = cv2.resize(grayscale, (28, 28))\n",
    "        print('maybe')\n",
    "        # cv2.imwrite('./training/image_train_{}.jpg'.format(index), resized)\n",
    "        print(type(resized_image))\n",
    "        q.append(resized_image)\n",
    "        # print('how')\n",
    "        # cv2.imshow('test', resized_image)\n",
    "        # cv2.waitKey(0)\n",
    "        # cv2.destroyAllWindows()\n",
    "        # print('works!')\n",
    "    except:\n",
    "               pass "
   ]
  },
  {
   "cell_type": "code",
   "execution_count": 16,
   "metadata": {},
   "outputs": [],
   "source": [
    "q.append(resized_image)"
   ]
  },
  {
   "cell_type": "code",
   "execution_count": 17,
   "metadata": {},
   "outputs": [
    {
     "output_type": "execute_result",
     "data": {
      "text/plain": [
       "[array([[ 28,  28,  26,  32,  38,  54,  72,  90, 113, 124, 134, 158, 160,\n",
       "         171, 178, 189, 187, 182, 169, 156, 104,  63,  69,  68,  67,  67,\n",
       "          66,  69],\n",
       "        [ 27,  30,  30,  32,  36,  54,  70,  94, 115, 123, 139, 152, 162,\n",
       "         174, 177, 181, 190, 184, 170, 163, 127,  67,  68,  68,  68,  68,\n",
       "          66,  72],\n",
       "        [ 28,  30,  32,  33,  38,  50,  68,  90, 104, 127, 136, 152, 160,\n",
       "         172, 172, 170, 178, 180, 171, 172, 148,  72,  68,  69,  68,  69,\n",
       "          69,  68],\n",
       "        [ 28,  28,  31,  34,  38,  51,  63,  81, 101, 115, 132, 145, 160,\n",
       "         156, 154, 166, 166, 165, 175, 172, 158,  69,  68,  69,  70,  70,\n",
       "          69,  70],\n",
       "        [ 29,  28,  30,  35,  40,  43,  56,  74,  89, 113, 132, 146, 157,\n",
       "         157, 155, 159, 168, 173, 175, 164, 162,  74,  71,  70,  71,  70,\n",
       "          70,  70],\n",
       "        [ 27,  28,  29,  31,  34,  45,  52,  72,  91, 113, 127, 150, 162,\n",
       "         159, 158, 170, 170, 179, 183, 174, 145,  68,  69,  71,  70,  71,\n",
       "          71,  71],\n",
       "        [ 25,  24,  25,  27,  37,  43,  54,  68,  86, 107, 140, 146, 153,\n",
       "         171, 163, 166, 163, 168, 186, 190, 163, 150,  69,  71,  70,  70,\n",
       "          71,  71],\n",
       "        [ 21,  21,  24,  34,  53,  78,  58,  48,  51,  51,  51,  76, 140,\n",
       "         148, 148,  83,  89, 128, 133, 162, 181, 166,  96,  83,  39,  71,\n",
       "          71,  72],\n",
       "        [ 21,  21,  30,  18,  57,  68,  69,  74,  74,  76,  80,  74,  35,\n",
       "          12,  46,  79, 150, 135, 138, 142, 157, 145,  39,  89,  29,  70,\n",
       "          72,  72],\n",
       "        [ 11,  14,   4,  58,  63,  80,  93,  91,  64,  48,  40,  38,  27,\n",
       "          80, 153,  69, 143, 156, 127,  72, 102, 131,  87,  79,  25,  74,\n",
       "          72,  72],\n",
       "        [  6,  14,  17,  62,  69,  49,  72,  47,  41,  32,  28,  37,  33,\n",
       "          41, 114, 184, 144, 149, 147, 117, 115, 173,  89,  98,  72,  70,\n",
       "          72,  74],\n",
       "        [ 37,  50,  58,  50,  42,  71,  67,  60,  54,  39,  35,  31,  26,\n",
       "          27,  75, 152, 147, 146, 164, 161, 164, 201, 111,  69,  72,  69,\n",
       "          77,  72],\n",
       "        [ 33,  47,  34,  35,  60,  71,  82,  66,  50,  48,  45,  24,  25,\n",
       "          28,  45, 118, 169, 180, 165, 162, 190, 187, 191,  77,  73,  74,\n",
       "          74,  73],\n",
       "        [ 34,  41,  44,  46,  61,  91,  86,  71,  45,  33,  30,  26,  28,\n",
       "          27,  33,  85, 152, 162, 164, 184, 198, 197, 192,  75,  74,  74,\n",
       "          73,  74],\n",
       "        [ 32,  40,  46,  58,  67,  82,  79,  65,  51,  42,  33,  28,  23,\n",
       "          22,  23,  50, 148, 197, 187, 195, 192, 199, 196,  76,  74,  74,\n",
       "          75,  75],\n",
       "        [ 35,  40,  46,  64,  73,  81,  78,  66,  56,  47,  38,  18,  24,\n",
       "          23,  24,  63, 172, 175, 202, 196, 195, 199, 195,  80,  74,  76,\n",
       "          75,  76],\n",
       "        [ 36,  45,  51,  61,  67,  66,  78,  64,  59,  57,  38,  25,  38,\n",
       "          63,  73,  70, 138, 137, 194, 201, 197, 203, 203,  74,  78,  75,\n",
       "          75,  77],\n",
       "        [ 38,  45,  50,  58,  60,  54,  66,  62,  65,  71,  48,  37,  66,\n",
       "          43,  81, 128, 186, 183, 189, 200, 203, 200, 192,  78,  78,  75,\n",
       "          75,  78],\n",
       "        [ 37,  47,  54,  57,  55,  54,  60,  60,  69,  64,  52,  42,  30,\n",
       "          42, 122, 126, 161, 175, 181, 198, 207, 203, 191,  74,  78,  77,\n",
       "          76,  77],\n",
       "        [ 36,  44,  51,  55,  49,  49,  57,  57,  63,  61,  66,  64,  46,\n",
       "          62, 134, 115, 173, 136, 163, 173, 202, 203, 195,  78,  77,  77,\n",
       "          77,  79],\n",
       "        [ 36,  42,  50,  53,  49,  54,  53,  54,  59,  67,  82,  75,  81,\n",
       "         109, 127, 148, 179, 188, 201, 181, 198, 204, 187,  80,  80,  78,\n",
       "          79,  79],\n",
       "        [ 37,  42,  47,  53,  55,  51,  48,  47,  49,  70,  98,  86, 102,\n",
       "         108, 105, 119, 104, 100, 116, 155, 201, 195, 190,  77,  79,  79,\n",
       "          77,  79],\n",
       "        [ 37,  39,  48,  53,  52,  47,  45,  46,  56, 114,  91,  40,  73,\n",
       "          77, 134, 151, 164, 197, 201, 199, 201, 191, 187,  78,  78,  80,\n",
       "          81,  80],\n",
       "        [ 35,  39,  46,  50,  50,  43,  45,  50,  84, 127,  86,  96, 101,\n",
       "         117, 150, 134, 147, 189, 201, 204, 192, 185, 107,  77,  81,  80,\n",
       "          79,  80],\n",
       "        [ 32,  42,  42,  47,  48,  50,  45,  62,  90,  84,  90, 108, 114,\n",
       "         152, 160, 147, 178, 197, 206, 204, 200, 159,  77,  82,  80,  80,\n",
       "          81,  81],\n",
       "        [ 28,  38,  42,  47,  46,  43,  51,  56,  62,  75,  86, 102, 125,\n",
       "         154, 141, 118, 163, 192, 202, 188, 197, 175,  83,  80,  79,  82,\n",
       "          81,  83],\n",
       "        [ 29,  35,  44,  46,  41,  45,  46,  51,  59,  62,  64,  89, 123,\n",
       "         144, 124, 129, 151, 176, 189, 176, 179,  95,  79,  82,  81,  81,\n",
       "          83,  81],\n",
       "        [ 21,  33,  38,  38,  45,  47,  46,  47,  53,  51,  55,  65,  86,\n",
       "         111, 124, 148, 168, 163, 188, 178, 129,  87,  84,  83,  85,  81,\n",
       "          81,  82]], dtype=uint8),\n",
       " array([[ 28,  28,  26,  32,  38,  54,  72,  90, 113, 124, 134, 158, 160,\n",
       "         171, 178, 189, 187, 182, 169, 156, 104,  63,  69,  68,  67,  67,\n",
       "          66,  69],\n",
       "        [ 27,  30,  30,  32,  36,  54,  70,  94, 115, 123, 139, 152, 162,\n",
       "         174, 177, 181, 190, 184, 170, 163, 127,  67,  68,  68,  68,  68,\n",
       "          66,  72],\n",
       "        [ 28,  30,  32,  33,  38,  50,  68,  90, 104, 127, 136, 152, 160,\n",
       "         172, 172, 170, 178, 180, 171, 172, 148,  72,  68,  69,  68,  69,\n",
       "          69,  68],\n",
       "        [ 28,  28,  31,  34,  38,  51,  63,  81, 101, 115, 132, 145, 160,\n",
       "         156, 154, 166, 166, 165, 175, 172, 158,  69,  68,  69,  70,  70,\n",
       "          69,  70],\n",
       "        [ 29,  28,  30,  35,  40,  43,  56,  74,  89, 113, 132, 146, 157,\n",
       "         157, 155, 159, 168, 173, 175, 164, 162,  74,  71,  70,  71,  70,\n",
       "          70,  70],\n",
       "        [ 27,  28,  29,  31,  34,  45,  52,  72,  91, 113, 127, 150, 162,\n",
       "         159, 158, 170, 170, 179, 183, 174, 145,  68,  69,  71,  70,  71,\n",
       "          71,  71],\n",
       "        [ 25,  24,  25,  27,  37,  43,  54,  68,  86, 107, 140, 146, 153,\n",
       "         171, 163, 166, 163, 168, 186, 190, 163, 150,  69,  71,  70,  70,\n",
       "          71,  71],\n",
       "        [ 21,  21,  24,  34,  53,  78,  58,  48,  51,  51,  51,  76, 140,\n",
       "         148, 148,  83,  89, 128, 133, 162, 181, 166,  96,  83,  39,  71,\n",
       "          71,  72],\n",
       "        [ 21,  21,  30,  18,  57,  68,  69,  74,  74,  76,  80,  74,  35,\n",
       "          12,  46,  79, 150, 135, 138, 142, 157, 145,  39,  89,  29,  70,\n",
       "          72,  72],\n",
       "        [ 11,  14,   4,  58,  63,  80,  93,  91,  64,  48,  40,  38,  27,\n",
       "          80, 153,  69, 143, 156, 127,  72, 102, 131,  87,  79,  25,  74,\n",
       "          72,  72],\n",
       "        [  6,  14,  17,  62,  69,  49,  72,  47,  41,  32,  28,  37,  33,\n",
       "          41, 114, 184, 144, 149, 147, 117, 115, 173,  89,  98,  72,  70,\n",
       "          72,  74],\n",
       "        [ 37,  50,  58,  50,  42,  71,  67,  60,  54,  39,  35,  31,  26,\n",
       "          27,  75, 152, 147, 146, 164, 161, 164, 201, 111,  69,  72,  69,\n",
       "          77,  72],\n",
       "        [ 33,  47,  34,  35,  60,  71,  82,  66,  50,  48,  45,  24,  25,\n",
       "          28,  45, 118, 169, 180, 165, 162, 190, 187, 191,  77,  73,  74,\n",
       "          74,  73],\n",
       "        [ 34,  41,  44,  46,  61,  91,  86,  71,  45,  33,  30,  26,  28,\n",
       "          27,  33,  85, 152, 162, 164, 184, 198, 197, 192,  75,  74,  74,\n",
       "          73,  74],\n",
       "        [ 32,  40,  46,  58,  67,  82,  79,  65,  51,  42,  33,  28,  23,\n",
       "          22,  23,  50, 148, 197, 187, 195, 192, 199, 196,  76,  74,  74,\n",
       "          75,  75],\n",
       "        [ 35,  40,  46,  64,  73,  81,  78,  66,  56,  47,  38,  18,  24,\n",
       "          23,  24,  63, 172, 175, 202, 196, 195, 199, 195,  80,  74,  76,\n",
       "          75,  76],\n",
       "        [ 36,  45,  51,  61,  67,  66,  78,  64,  59,  57,  38,  25,  38,\n",
       "          63,  73,  70, 138, 137, 194, 201, 197, 203, 203,  74,  78,  75,\n",
       "          75,  77],\n",
       "        [ 38,  45,  50,  58,  60,  54,  66,  62,  65,  71,  48,  37,  66,\n",
       "          43,  81, 128, 186, 183, 189, 200, 203, 200, 192,  78,  78,  75,\n",
       "          75,  78],\n",
       "        [ 37,  47,  54,  57,  55,  54,  60,  60,  69,  64,  52,  42,  30,\n",
       "          42, 122, 126, 161, 175, 181, 198, 207, 203, 191,  74,  78,  77,\n",
       "          76,  77],\n",
       "        [ 36,  44,  51,  55,  49,  49,  57,  57,  63,  61,  66,  64,  46,\n",
       "          62, 134, 115, 173, 136, 163, 173, 202, 203, 195,  78,  77,  77,\n",
       "          77,  79],\n",
       "        [ 36,  42,  50,  53,  49,  54,  53,  54,  59,  67,  82,  75,  81,\n",
       "         109, 127, 148, 179, 188, 201, 181, 198, 204, 187,  80,  80,  78,\n",
       "          79,  79],\n",
       "        [ 37,  42,  47,  53,  55,  51,  48,  47,  49,  70,  98,  86, 102,\n",
       "         108, 105, 119, 104, 100, 116, 155, 201, 195, 190,  77,  79,  79,\n",
       "          77,  79],\n",
       "        [ 37,  39,  48,  53,  52,  47,  45,  46,  56, 114,  91,  40,  73,\n",
       "          77, 134, 151, 164, 197, 201, 199, 201, 191, 187,  78,  78,  80,\n",
       "          81,  80],\n",
       "        [ 35,  39,  46,  50,  50,  43,  45,  50,  84, 127,  86,  96, 101,\n",
       "         117, 150, 134, 147, 189, 201, 204, 192, 185, 107,  77,  81,  80,\n",
       "          79,  80],\n",
       "        [ 32,  42,  42,  47,  48,  50,  45,  62,  90,  84,  90, 108, 114,\n",
       "         152, 160, 147, 178, 197, 206, 204, 200, 159,  77,  82,  80,  80,\n",
       "          81,  81],\n",
       "        [ 28,  38,  42,  47,  46,  43,  51,  56,  62,  75,  86, 102, 125,\n",
       "         154, 141, 118, 163, 192, 202, 188, 197, 175,  83,  80,  79,  82,\n",
       "          81,  83],\n",
       "        [ 29,  35,  44,  46,  41,  45,  46,  51,  59,  62,  64,  89, 123,\n",
       "         144, 124, 129, 151, 176, 189, 176, 179,  95,  79,  82,  81,  81,\n",
       "          83,  81],\n",
       "        [ 21,  33,  38,  38,  45,  47,  46,  47,  53,  51,  55,  65,  86,\n",
       "         111, 124, 148, 168, 163, 188, 178, 129,  87,  84,  83,  85,  81,\n",
       "          81,  82]], dtype=uint8)]"
      ]
     },
     "metadata": {},
     "execution_count": 17
    }
   ],
   "source": [
    "q"
   ]
  },
  {
   "cell_type": "code",
   "execution_count": 16,
   "metadata": {},
   "outputs": [],
   "source": [
    "# for (x, y, w, h) in features:\n",
    "#     # print('{},{},{},{}'.format(x,y,w,h))\n",
    "#     # cv2.rectangle(grayscale,(x, y),(x + w, y + h),(0, 255, 0),2)\n",
    "#     # cv2.imshow('Image', grayscale)\n",
    "#     # cv2.waitKey(0)\n",
    "#     # cv2.destroyAllWindows()\n",
    "#     grayscale = grayscale[y:y+h, x:x+w]\n",
    "#     try:\n",
    "#         print('kinda')\n",
    "#         resized = cv2.resize(grayscale, (350, 350))\n",
    "#         print('maybe')\n",
    "#         cv2.imwrite('./training/image_train_{}.jpg'.format(index), resized)\n",
    "#         print('works!')\n",
    "#     except:\n",
    "#                pass "
   ]
  },
  {
   "cell_type": "code",
   "execution_count": 17,
   "metadata": {},
   "outputs": [],
   "source": [
    "# def find_faces(file):\n",
    "    \n",
    "\n",
    "#     f = pd.read_csv(file, usecols=['Index','Folder','Filename','Categorical_Labels'])\n",
    "#     images = len(f.index)\n",
    "#     index = 0\n",
    "#     for image in range(images):\n",
    "#         frame = cv2.imread('./emotic/{}'.format(f['Folder'][image] + '/{}'.format(f['Filename'][image])))\n",
    "#         grayscale = cv2.cvtColor(frame, cv2.COLOR_BGR2GRAY)\n",
    "#         face1 = face_det1.detectMultiScale(grayscale, scaleFactor=1.1, minNeighbors=10, minSize=(5, 5), flags=cv2.CASCADE_SCALE_IMAGE)\n",
    "#         face2 = face_det2.detectMultiScale(grayscale, scaleFactor=1.1, minNeighbors=10, minSize=(5, 5), flags=cv2.CASCADE_SCALE_IMAGE)\n",
    "#         if len(face1) == 1:\n",
    "#             face1 = features\n",
    "#         elif len(face2) == 1:\n",
    "#             face2 = features\n",
    "#         else:\n",
    "#             features = ''\n",
    "\n",
    "#         for (x, y, w, z) in features:\n",
    "#             grayscale = grayscale[y:y+h, x:x+w]\n",
    "#             try:\n",
    "#                 resized = cv2.resize(grayscale, (350, 350))\n",
    "#                 cv2.imrite('/training/image_train_\\\\%s.jpg' % (index), resized) \n",
    "#             except:\n",
    "#                pass \n",
    "#         # index += 1 \n",
    "#         print('It is in the file!')\n",
    "# find_faces('./emotic_pre/original_train.csv')"
   ]
  },
  {
   "cell_type": "code",
   "execution_count": null,
   "metadata": {},
   "outputs": [],
   "source": [
    "    # parent_dir = './Data/emotic_pre'\n",
    "    # directory = '/train-faces'\n",
    "    # path = os.path.join(parent_dir, directory)\n",
    "    # os.mkdir(path, mode=0o777)\n",
    "    # print('%s directory is created!')"
   ]
  }
 ]
}