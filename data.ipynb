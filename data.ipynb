{
 "metadata": {
  "language_info": {
   "codemirror_mode": {
    "name": "ipython",
    "version": 3
   },
   "file_extension": ".py",
   "mimetype": "text/x-python",
   "name": "python",
   "nbconvert_exporter": "python",
   "pygments_lexer": "ipython3",
   "version": "3.8.5-final"
  },
  "orig_nbformat": 2,
  "kernelspec": {
   "name": "python3",
   "display_name": "Python 3",
   "language": "python"
  }
 },
 "nbformat": 4,
 "nbformat_minor": 2,
 "cells": [
  {
   "cell_type": "code",
   "execution_count": 1,
   "metadata": {},
   "outputs": [],
   "source": [
    "import numpy as np\n",
    "import pandas as pd\n",
    "import matplotlib.pyplot as plt\n",
    "%matplotlib inline\n",
    "import seaborn as sns\n",
    "import tensorflow as tf\n",
    "import boto3\n",
    "\n",
    "s3 = boto3.client('s3')"
   ]
  },
  {
   "cell_type": "code",
   "execution_count": 2,
   "metadata": {},
   "outputs": [],
   "source": [
    "pd.set_option('display.max_colwidth', -1)"
   ]
  },
  {
   "cell_type": "code",
   "execution_count": 3,
   "metadata": {
    "tags": []
   },
   "outputs": [],
   "source": [
    "data_train = pd.read_csv('FEC_dataset/faceexp-comparison-data-train-public.csv',sep='\\n',header=None, nrows=100)\n",
    "data_test = pd.read_csv('FEC_dataset/faceexp-comparison-data-test-public.csv',sep='\\n',header=None, nrows=100)\n",
    "# data_test = pd.read_excel('FEC_dataset/corrected_faceexp-comparison-data-train-public.ods', engine='odf', nrows=100 )\n",
    "# data_train = pd.read_excel('FEC_dataset/corrected_faceexp-comparison-data-train-public.ods', engine='odf', nrows=100)"
   ]
  },
  {
   "cell_type": "code",
   "execution_count": 4,
   "metadata": {},
   "outputs": [],
   "source": [
    "data_train.columns = ['Test']\n",
    "data_test.columns = ['Test']"
   ]
  },
  {
   "cell_type": "code",
   "execution_count": 5,
   "metadata": {},
   "outputs": [],
   "source": [
    "data_train = data_train.Test.apply(lambda x: pd.Series(str(x).split(',')))\n",
    "data_test = data_test.Test.apply(lambda x: pd.Series(str(x).split(',')))"
   ]
  },
  {
   "cell_type": "code",
   "execution_count": 7,
   "metadata": {},
   "outputs": [],
   "source": [
    "data_train.columns = ['URL of image1', 'Image1 Top-left Column', 'Image1 Bottom-right Column', 'Image1 Top-Left Row', 'Image1 Bottom-right Row', 'URL of image2', 'Image2 Top-left Column', 'Image2 Bottom-right Column', 'Image2 Top-Left Row', 'Image2 Bottom-right Row','URL of image3', 'Image3 Top-left Column', 'Image3 Bottom-right Column', 'Image3 Top-Left Row', 'Image3 Bottom-right Row','Triplet Type', 'Annotater1 ID', 'Annotation1','Annotater2 ID', 'Annotation2', 'Annotater3 ID', 'Annotation3', 'Annotater4 ID', 'Annotation4', 'Annotater5 ID', 'Annotation5', 'Annotater6 ID', 'Annotation6', 'Annotater7 ID', 'Annotation7']\n",
    "data_test.columns = ['URL of image1', 'Image1 Top-left Column', 'Image1 Bottom-right Column', 'Image1 Top-Left Row', 'Image1 Bottom-right Row', 'URL of image2', 'Image2 Top-left Column', 'Image2 Bottom-right Column', 'Image2 Top-Left Row', 'Image2 Bottom-right Row','URL of image3', 'Image3 Top-left Column', 'Image3 Bottom-right Column', 'Image3 Top-Left Row', 'Image3 Bottom-right Row','Triplet Type', 'Annotater1 ID', 'Annotation1','Annotater2 ID', 'Annotation2', 'Annotater3 ID', 'Annotation3', 'Annotater4 ID', 'Annotation4', 'Annotater5 ID', 'Annotation5', 'Annotater6 ID', 'Annotation6']"
   ]
  },
  {
   "cell_type": "code",
   "execution_count": 8,
   "metadata": {},
   "outputs": [
    {
     "output_type": "execute_result",
     "data": {
      "text/plain": [
       "                                                     URL of image1  \\\n",
       "0  http://farm4.staticflickr.com/3679/12137399835_d9075d3194_b.jpg   \n",
       "1  http://farm4.staticflickr.com/3679/12137399835_d9075d3194_b.jpg   \n",
       "2  http://farm4.staticflickr.com/3679/12137399835_d9075d3194_b.jpg   \n",
       "3  http://farm4.staticflickr.com/3679/12137399835_d9075d3194_b.jpg   \n",
       "4  http://farm4.staticflickr.com/3679/12137399835_d9075d3194_b.jpg   \n",
       "\n",
       "  Image1 Top-left Column Image1 Bottom-right Column Image1 Top-Left Row  \\\n",
       "0  0.453125               0.655273                   0.079019             \n",
       "1  0.453125               0.655273                   0.079019             \n",
       "2  0.453125               0.655273                   0.079019             \n",
       "3  0.453125               0.655273                   0.079019             \n",
       "4  0.453125               0.655273                   0.079019             \n",
       "\n",
       "  Image1 Bottom-right Row  \\\n",
       "0  0.407357                 \n",
       "1  0.407357                 \n",
       "2  0.407357                 \n",
       "3  0.407357                 \n",
       "4  0.407357                 \n",
       "\n",
       "                                                       URL of image2  \\\n",
       "0  \"http://farm4.staticflickr.com/3372/5791826985_e285030df5_b.jpg\"    \n",
       "1  \"http://farm6.staticflickr.com/5532/11255277973_d67d4466a5_b.jpg\"   \n",
       "2  \"http://farm1.staticflickr.com/1/186137601_d1b8896958_b.jpg\"        \n",
       "3  \"http://farm8.staticflickr.com/7345/11272369166_ec7f4b51ef_b.jpg\"   \n",
       "4  \"http://farm4.staticflickr.com/3760/13641363095_c0294ab0b8_b.jpg\"   \n",
       "\n",
       "  Image2 Top-left Column Image2 Bottom-right Column Image2 Top-Left Row  \\\n",
       "0  0.523734               0.675633                   0.155660             \n",
       "1  0.302734               0.568359                   0.060150             \n",
       "2  0.311558               0.444724                   0.178711             \n",
       "3  0.185547               0.260742                   0.146245             \n",
       "4  0.408854               0.518229                   0.277344             \n",
       "\n",
       "  Image2 Bottom-right Row  ... Annotater2 ID Annotation2 Annotater3 ID  \\\n",
       "0  0.419811                ...  300701        3           321902         \n",
       "1  0.535338                ...  300701        1           300901         \n",
       "2  0.298828                ...  291701        3           300701         \n",
       "3  0.263505                ...  291701        2           321902         \n",
       "4  0.372070                ...  291701        2           321601         \n",
       "\n",
       "  Annotation3 Annotater4 ID Annotation4 Annotater5 ID Annotation5  \\\n",
       "0  3           322102        3           4294978797    3            \n",
       "1  3           321501        3           321902        2            \n",
       "2  3           321501        3           321601        3            \n",
       "3  3           322102        2           4294989896    2            \n",
       "4  1           322102        2           4294989896    2            \n",
       "\n",
       "  Annotater6 ID Annotation6  \n",
       "0  4294989896    3           \n",
       "1  322102        3           \n",
       "2  321902        3           \n",
       "3  48316         3           \n",
       "4  48316         2           \n",
       "\n",
       "[5 rows x 28 columns]"
      ],
      "text/html": "<div>\n<style scoped>\n    .dataframe tbody tr th:only-of-type {\n        vertical-align: middle;\n    }\n\n    .dataframe tbody tr th {\n        vertical-align: top;\n    }\n\n    .dataframe thead th {\n        text-align: right;\n    }\n</style>\n<table border=\"1\" class=\"dataframe\">\n  <thead>\n    <tr style=\"text-align: right;\">\n      <th></th>\n      <th>URL of image1</th>\n      <th>Image1 Top-left Column</th>\n      <th>Image1 Bottom-right Column</th>\n      <th>Image1 Top-Left Row</th>\n      <th>Image1 Bottom-right Row</th>\n      <th>URL of image2</th>\n      <th>Image2 Top-left Column</th>\n      <th>Image2 Bottom-right Column</th>\n      <th>Image2 Top-Left Row</th>\n      <th>Image2 Bottom-right Row</th>\n      <th>...</th>\n      <th>Annotater2 ID</th>\n      <th>Annotation2</th>\n      <th>Annotater3 ID</th>\n      <th>Annotation3</th>\n      <th>Annotater4 ID</th>\n      <th>Annotation4</th>\n      <th>Annotater5 ID</th>\n      <th>Annotation5</th>\n      <th>Annotater6 ID</th>\n      <th>Annotation6</th>\n    </tr>\n  </thead>\n  <tbody>\n    <tr>\n      <th>0</th>\n      <td>http://farm4.staticflickr.com/3679/12137399835_d9075d3194_b.jpg</td>\n      <td>0.453125</td>\n      <td>0.655273</td>\n      <td>0.079019</td>\n      <td>0.407357</td>\n      <td>\"http://farm4.staticflickr.com/3372/5791826985_e285030df5_b.jpg\"</td>\n      <td>0.523734</td>\n      <td>0.675633</td>\n      <td>0.155660</td>\n      <td>0.419811</td>\n      <td>...</td>\n      <td>300701</td>\n      <td>3</td>\n      <td>321902</td>\n      <td>3</td>\n      <td>322102</td>\n      <td>3</td>\n      <td>4294978797</td>\n      <td>3</td>\n      <td>4294989896</td>\n      <td>3</td>\n    </tr>\n    <tr>\n      <th>1</th>\n      <td>http://farm4.staticflickr.com/3679/12137399835_d9075d3194_b.jpg</td>\n      <td>0.453125</td>\n      <td>0.655273</td>\n      <td>0.079019</td>\n      <td>0.407357</td>\n      <td>\"http://farm6.staticflickr.com/5532/11255277973_d67d4466a5_b.jpg\"</td>\n      <td>0.302734</td>\n      <td>0.568359</td>\n      <td>0.060150</td>\n      <td>0.535338</td>\n      <td>...</td>\n      <td>300701</td>\n      <td>1</td>\n      <td>300901</td>\n      <td>3</td>\n      <td>321501</td>\n      <td>3</td>\n      <td>321902</td>\n      <td>2</td>\n      <td>322102</td>\n      <td>3</td>\n    </tr>\n    <tr>\n      <th>2</th>\n      <td>http://farm4.staticflickr.com/3679/12137399835_d9075d3194_b.jpg</td>\n      <td>0.453125</td>\n      <td>0.655273</td>\n      <td>0.079019</td>\n      <td>0.407357</td>\n      <td>\"http://farm1.staticflickr.com/1/186137601_d1b8896958_b.jpg\"</td>\n      <td>0.311558</td>\n      <td>0.444724</td>\n      <td>0.178711</td>\n      <td>0.298828</td>\n      <td>...</td>\n      <td>291701</td>\n      <td>3</td>\n      <td>300701</td>\n      <td>3</td>\n      <td>321501</td>\n      <td>3</td>\n      <td>321601</td>\n      <td>3</td>\n      <td>321902</td>\n      <td>3</td>\n    </tr>\n    <tr>\n      <th>3</th>\n      <td>http://farm4.staticflickr.com/3679/12137399835_d9075d3194_b.jpg</td>\n      <td>0.453125</td>\n      <td>0.655273</td>\n      <td>0.079019</td>\n      <td>0.407357</td>\n      <td>\"http://farm8.staticflickr.com/7345/11272369166_ec7f4b51ef_b.jpg\"</td>\n      <td>0.185547</td>\n      <td>0.260742</td>\n      <td>0.146245</td>\n      <td>0.263505</td>\n      <td>...</td>\n      <td>291701</td>\n      <td>2</td>\n      <td>321902</td>\n      <td>3</td>\n      <td>322102</td>\n      <td>2</td>\n      <td>4294989896</td>\n      <td>2</td>\n      <td>48316</td>\n      <td>3</td>\n    </tr>\n    <tr>\n      <th>4</th>\n      <td>http://farm4.staticflickr.com/3679/12137399835_d9075d3194_b.jpg</td>\n      <td>0.453125</td>\n      <td>0.655273</td>\n      <td>0.079019</td>\n      <td>0.407357</td>\n      <td>\"http://farm4.staticflickr.com/3760/13641363095_c0294ab0b8_b.jpg\"</td>\n      <td>0.408854</td>\n      <td>0.518229</td>\n      <td>0.277344</td>\n      <td>0.372070</td>\n      <td>...</td>\n      <td>291701</td>\n      <td>2</td>\n      <td>321601</td>\n      <td>1</td>\n      <td>322102</td>\n      <td>2</td>\n      <td>4294989896</td>\n      <td>2</td>\n      <td>48316</td>\n      <td>2</td>\n    </tr>\n  </tbody>\n</table>\n<p>5 rows × 28 columns</p>\n</div>"
     },
     "metadata": {},
     "execution_count": 8
    }
   ],
   "source": [
    "data_test.head()"
   ]
  },
  {
   "cell_type": "code",
   "execution_count": 9,
   "metadata": {},
   "outputs": [
    {
     "output_type": "execute_result",
     "data": {
      "text/plain": [
       "array(['http://farm5.staticflickr.com/4108/5185055338_1dec873bf3_b.jpg',\n",
       "       'http://farm8.staticflickr.com/7458/11756029544_0c4ab1713c_b.jpg',\n",
       "       'http://farm6.staticflickr.com/5451/9670218976_ee459547ff_b.jpg',\n",
       "       'http://farm2.staticflickr.com/1194/800391570_bece0a761c_b.jpg',\n",
       "       'http://farm6.staticflickr.com/5033/14414157667_98383c7f1c_b.jpg',\n",
       "       'http://farm3.staticflickr.com/2938/14716663066_5a80897c22_b.jpg',\n",
       "       'http://farm4.staticflickr.com/3732/11190266664_e1cce12d3f_b.jpg',\n",
       "       'http://farm2.staticflickr.com/1421/4721793735_d23bc3e9a3_b.jpg',\n",
       "       'http://farm8.staticflickr.com/7354/10667751636_a2e87c193e_b.jpg',\n",
       "       'http://farm5.staticflickr.com/4037/4479925876_d60c925bd5_b.jpg',\n",
       "       'http://farm7.staticflickr.com/6078/6049791236_1c994ccd2e_b.jpg',\n",
       "       'http://farm3.staticflickr.com/2057/2116299821_a97d441552_b.jpg',\n",
       "       'http://farm4.staticflickr.com/3089/2633070690_e7b1e66c2f_z.jpg'],\n",
       "      dtype=object)"
      ]
     },
     "metadata": {},
     "execution_count": 9
    }
   ],
   "source": [
    "pd.unique(data_train['URL of image1'])"
   ]
  },
  {
   "cell_type": "code",
   "execution_count": 11,
   "metadata": {},
   "outputs": [
    {
     "output_type": "error",
     "ename": "ValueError",
     "evalue": "could not broadcast input array from shape (100,5) into shape (100)",
     "traceback": [
      "\u001b[0;31m---------------------------------------------------------------------------\u001b[0m",
      "\u001b[0;31mValueError\u001b[0m                                Traceback (most recent call last)",
      "\u001b[0;32m<ipython-input-11-469e7c96c985>\u001b[0m in \u001b[0;36m<module>\u001b[0;34m\u001b[0m\n\u001b[0;32m----> 1\u001b[0;31m \u001b[0mdf_train\u001b[0m \u001b[0;34m=\u001b[0m \u001b[0mpd\u001b[0m\u001b[0;34m.\u001b[0m\u001b[0munique\u001b[0m\u001b[0;34m(\u001b[0m\u001b[0mdata_train\u001b[0m\u001b[0;34m[\u001b[0m\u001b[0;34m[\u001b[0m\u001b[0;34m'URL of image1'\u001b[0m\u001b[0;34m,\u001b[0m \u001b[0;34m'Image1 Top-left Column'\u001b[0m\u001b[0;34m,\u001b[0m \u001b[0;34m'Image1 Bottom-right Column'\u001b[0m\u001b[0;34m,\u001b[0m \u001b[0;34m'Image1 Top-Left Row'\u001b[0m\u001b[0;34m,\u001b[0m \u001b[0;34m'Image1 Bottom-right Row'\u001b[0m\u001b[0;34m]\u001b[0m\u001b[0;34m]\u001b[0m\u001b[0;34m)\u001b[0m\u001b[0;34m\u001b[0m\u001b[0;34m\u001b[0m\u001b[0m\n\u001b[0m\u001b[1;32m      2\u001b[0m \u001b[0mdf_train\u001b[0m\u001b[0;34m.\u001b[0m\u001b[0mhead\u001b[0m\u001b[0;34m(\u001b[0m\u001b[0;34m)\u001b[0m\u001b[0;34m\u001b[0m\u001b[0;34m\u001b[0m\u001b[0m\n",
      "\u001b[0;32m~/anaconda3/lib/python3.8/site-packages/pandas/core/algorithms.py\u001b[0m in \u001b[0;36munique\u001b[0;34m(values)\u001b[0m\n\u001b[1;32m    387\u001b[0m     \u001b[0marray\u001b[0m\u001b[0;34m(\u001b[0m\u001b[0;34m[\u001b[0m\u001b[0;34m(\u001b[0m\u001b[0;34m'a'\u001b[0m\u001b[0;34m,\u001b[0m \u001b[0;34m'b'\u001b[0m\u001b[0;34m)\u001b[0m\u001b[0;34m,\u001b[0m \u001b[0;34m(\u001b[0m\u001b[0;34m'b'\u001b[0m\u001b[0;34m,\u001b[0m \u001b[0;34m'a'\u001b[0m\u001b[0;34m)\u001b[0m\u001b[0;34m,\u001b[0m \u001b[0;34m(\u001b[0m\u001b[0;34m'a'\u001b[0m\u001b[0;34m,\u001b[0m \u001b[0;34m'c'\u001b[0m\u001b[0;34m)\u001b[0m\u001b[0;34m]\u001b[0m\u001b[0;34m,\u001b[0m \u001b[0mdtype\u001b[0m\u001b[0;34m=\u001b[0m\u001b[0mobject\u001b[0m\u001b[0;34m)\u001b[0m\u001b[0;34m\u001b[0m\u001b[0;34m\u001b[0m\u001b[0m\n\u001b[1;32m    388\u001b[0m     \"\"\"\n\u001b[0;32m--> 389\u001b[0;31m     \u001b[0mvalues\u001b[0m \u001b[0;34m=\u001b[0m \u001b[0m_ensure_arraylike\u001b[0m\u001b[0;34m(\u001b[0m\u001b[0mvalues\u001b[0m\u001b[0;34m)\u001b[0m\u001b[0;34m\u001b[0m\u001b[0;34m\u001b[0m\u001b[0m\n\u001b[0m\u001b[1;32m    390\u001b[0m \u001b[0;34m\u001b[0m\u001b[0m\n\u001b[1;32m    391\u001b[0m     \u001b[0;32mif\u001b[0m \u001b[0mis_extension_array_dtype\u001b[0m\u001b[0;34m(\u001b[0m\u001b[0mvalues\u001b[0m\u001b[0;34m)\u001b[0m\u001b[0;34m:\u001b[0m\u001b[0;34m\u001b[0m\u001b[0;34m\u001b[0m\u001b[0m\n",
      "\u001b[0;32m~/anaconda3/lib/python3.8/site-packages/pandas/core/algorithms.py\u001b[0m in \u001b[0;36m_ensure_arraylike\u001b[0;34m(values)\u001b[0m\n\u001b[1;32m    230\u001b[0m             \u001b[0;32mif\u001b[0m \u001b[0misinstance\u001b[0m\u001b[0;34m(\u001b[0m\u001b[0mvalues\u001b[0m\u001b[0;34m,\u001b[0m \u001b[0mtuple\u001b[0m\u001b[0;34m)\u001b[0m\u001b[0;34m:\u001b[0m\u001b[0;34m\u001b[0m\u001b[0;34m\u001b[0m\u001b[0m\n\u001b[1;32m    231\u001b[0m                 \u001b[0mvalues\u001b[0m \u001b[0;34m=\u001b[0m \u001b[0mlist\u001b[0m\u001b[0;34m(\u001b[0m\u001b[0mvalues\u001b[0m\u001b[0;34m)\u001b[0m\u001b[0;34m\u001b[0m\u001b[0;34m\u001b[0m\u001b[0m\n\u001b[0;32m--> 232\u001b[0;31m             \u001b[0mvalues\u001b[0m \u001b[0;34m=\u001b[0m \u001b[0mconstruct_1d_object_array_from_listlike\u001b[0m\u001b[0;34m(\u001b[0m\u001b[0mvalues\u001b[0m\u001b[0;34m)\u001b[0m\u001b[0;34m\u001b[0m\u001b[0;34m\u001b[0m\u001b[0m\n\u001b[0m\u001b[1;32m    233\u001b[0m         \u001b[0;32melse\u001b[0m\u001b[0;34m:\u001b[0m\u001b[0;34m\u001b[0m\u001b[0;34m\u001b[0m\u001b[0m\n\u001b[1;32m    234\u001b[0m             \u001b[0mvalues\u001b[0m \u001b[0;34m=\u001b[0m \u001b[0mnp\u001b[0m\u001b[0;34m.\u001b[0m\u001b[0masarray\u001b[0m\u001b[0;34m(\u001b[0m\u001b[0mvalues\u001b[0m\u001b[0;34m)\u001b[0m\u001b[0;34m\u001b[0m\u001b[0;34m\u001b[0m\u001b[0m\n",
      "\u001b[0;32m~/anaconda3/lib/python3.8/site-packages/pandas/core/dtypes/cast.py\u001b[0m in \u001b[0;36mconstruct_1d_object_array_from_listlike\u001b[0;34m(values)\u001b[0m\n\u001b[1;32m   1589\u001b[0m     \u001b[0;31m# making a 1D array that contains list-likes is a bit tricky:\u001b[0m\u001b[0;34m\u001b[0m\u001b[0;34m\u001b[0m\u001b[0;34m\u001b[0m\u001b[0m\n\u001b[1;32m   1590\u001b[0m     \u001b[0mresult\u001b[0m \u001b[0;34m=\u001b[0m \u001b[0mnp\u001b[0m\u001b[0;34m.\u001b[0m\u001b[0mempty\u001b[0m\u001b[0;34m(\u001b[0m\u001b[0mlen\u001b[0m\u001b[0;34m(\u001b[0m\u001b[0mvalues\u001b[0m\u001b[0;34m)\u001b[0m\u001b[0;34m,\u001b[0m \u001b[0mdtype\u001b[0m\u001b[0;34m=\u001b[0m\u001b[0;34m\"object\"\u001b[0m\u001b[0;34m)\u001b[0m\u001b[0;34m\u001b[0m\u001b[0;34m\u001b[0m\u001b[0m\n\u001b[0;32m-> 1591\u001b[0;31m     \u001b[0mresult\u001b[0m\u001b[0;34m[\u001b[0m\u001b[0;34m:\u001b[0m\u001b[0;34m]\u001b[0m \u001b[0;34m=\u001b[0m \u001b[0mvalues\u001b[0m\u001b[0;34m\u001b[0m\u001b[0;34m\u001b[0m\u001b[0m\n\u001b[0m\u001b[1;32m   1592\u001b[0m     \u001b[0;32mreturn\u001b[0m \u001b[0mresult\u001b[0m\u001b[0;34m\u001b[0m\u001b[0;34m\u001b[0m\u001b[0m\n\u001b[1;32m   1593\u001b[0m \u001b[0;34m\u001b[0m\u001b[0m\n",
      "\u001b[0;31mValueError\u001b[0m: could not broadcast input array from shape (100,5) into shape (100)"
     ]
    }
   ],
   "source": [
    "df_train = data_train[['URL of image1', 'Image1 Top-left Column', 'Image1 Bottom-right Column', 'Image1 Top-Left Row', 'Image1 Bottom-right Row']])\n",
    "df_train\n",
    "df_train.head()"
   ]
  },
  {
   "cell_type": "code",
   "execution_count": 10,
   "metadata": {},
   "outputs": [
    {
     "output_type": "execute_result",
     "data": {
      "text/plain": [
       "[{'Name': 'aws.bucket123456',\n",
       "  'CreationDate': datetime.datetime(2020, 10, 19, 22, 55, 16, tzinfo=tzutc())},\n",
       " {'Name': 'sagemaker-studio-fqqnc829sdw',\n",
       "  'CreationDate': datetime.datetime(2020, 12, 22, 19, 28, 9, tzinfo=tzutc())},\n",
       " {'Name': 'wmc-beedle',\n",
       "  'CreationDate': datetime.datetime(2020, 10, 19, 21, 20, 4, tzinfo=tzutc())}]"
      ]
     },
     "metadata": {},
     "execution_count": 10
    }
   ],
   "source": [
    "s3.list_buckets()['Buckets']"
   ]
  },
  {
   "cell_type": "code",
   "execution_count": 14,
   "metadata": {},
   "outputs": [
    {
     "output_type": "stream",
     "name": "stdout",
     "text": [
      "FEC_dataset/FEC_dataset.pdf\nFEC_dataset/corrected-faceexp-comparison-data-test-public.ods\nFEC_dataset/corrected_faceexp-comparison-data-train-public.ods\nFEC_dataset/faceexp-comparison-data-test-public.csv\nFEC_dataset/faceexp-comparison-data-train-public.csv\n"
     ]
    }
   ],
   "source": [
    "for obj in s3.list_objects_v2(Bucket='sagemaker-studio-fqqnc829sdw')['Contents']:\n",
    "    print(obj['Key'])"
   ]
  },
  {
   "cell_type": "code",
   "execution_count": 15,
   "metadata": {},
   "outputs": [],
   "source": [
    "response = s3.get_object(Bucket='sagemaker-studio-fqqnc829sdw', Key='FEC_dataset/faceexp-comparison-data-train-public.csv')"
   ]
  },
  {
   "cell_type": "code",
   "execution_count": 16,
   "metadata": {},
   "outputs": [
    {
     "output_type": "execute_result",
     "data": {
      "text/plain": [
       "{'ResponseMetadata': {'RequestId': '05860AA18B69BFAF',\n",
       "  'HostId': 'tfE7ZBvYEkDGjCgciiit+jW4Ve8K+3cEHSqPi0BSDKA4BFCRbBDj71RdaxO1CJIR2g7W1MohbRI=',\n",
       "  'HTTPStatusCode': 200,\n",
       "  'HTTPHeaders': {'x-amz-id-2': 'tfE7ZBvYEkDGjCgciiit+jW4Ve8K+3cEHSqPi0BSDKA4BFCRbBDj71RdaxO1CJIR2g7W1MohbRI=',\n",
       "   'x-amz-request-id': '05860AA18B69BFAF',\n",
       "   'date': 'Mon, 04 Jan 2021 21:54:25 GMT',\n",
       "   'last-modified': 'Mon, 04 Jan 2021 19:10:36 GMT',\n",
       "   'etag': '\"4a1ab158af721e9af49e15db9b430302-10\"',\n",
       "   'x-amz-version-id': 'Mk4ECrPeCD1LLNBgrfHttz8X5Rysmfmc',\n",
       "   'accept-ranges': 'bytes',\n",
       "   'content-type': 'text/csv',\n",
       "   'content-length': '170188378',\n",
       "   'server': 'AmazonS3'},\n",
       "  'RetryAttempts': 0},\n",
       " 'AcceptRanges': 'bytes',\n",
       " 'LastModified': datetime.datetime(2021, 1, 4, 19, 10, 36, tzinfo=tzutc()),\n",
       " 'ContentLength': 170188378,\n",
       " 'ETag': '\"4a1ab158af721e9af49e15db9b430302-10\"',\n",
       " 'VersionId': 'Mk4ECrPeCD1LLNBgrfHttz8X5Rysmfmc',\n",
       " 'ContentType': 'text/csv',\n",
       " 'Metadata': {},\n",
       " 'Body': <botocore.response.StreamingBody at 0x7f81c757c190>}"
      ]
     },
     "metadata": {},
     "execution_count": 16
    }
   ],
   "source": [
    "response"
   ]
  },
  {
   "cell_type": "code",
   "execution_count": null,
   "metadata": {},
   "outputs": [],
   "source": []
  }
 ]
}